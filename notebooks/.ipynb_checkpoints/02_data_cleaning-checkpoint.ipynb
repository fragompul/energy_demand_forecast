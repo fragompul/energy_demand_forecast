{
 "cells": [
  {
   "cell_type": "code",
   "execution_count": 1,
   "id": "c67d8f23-6ff9-423e-aa20-9f717fd14130",
   "metadata": {},
   "outputs": [],
   "source": [
    "import pandas as pd\n",
    "import numpy as np\n",
    "import os"
   ]
  },
  {
   "cell_type": "code",
   "execution_count": 2,
   "id": "8fdbabc6-3cd7-4554-b87a-f8ed024e2d53",
   "metadata": {},
   "outputs": [],
   "source": [
    "df = pd.read_csv('../data/raw/energy_spain_raw.csv')"
   ]
  },
  {
   "cell_type": "code",
   "execution_count": 3,
   "id": "f4188dc0-d569-48a8-ac5d-5c91d403ec3d",
   "metadata": {},
   "outputs": [],
   "source": [
    "cols = [\n",
    "    'year', 'electricity_generation', 'renewables_electricity', 'fossil_electricity', \n",
    "    'coal_electricity', 'gas_electricity', 'nuclear_electricity', 'oil_electricity', \n",
    "    'hydro_electricity', 'solar_electricity', 'wind_electricity', 'greenhouse_gas_emissions', \n",
    "    'population', 'gdp', 'electricity_demand', 'electricity_demand_per_capita'\n",
    "]\n",
    "\n",
    "# Filtrar columnas existentes\n",
    "cols = [c for c in cols if c in df.columns]\n",
    "\n",
    "df_clean = df[cols].copy()"
   ]
  },
  {
   "cell_type": "code",
   "execution_count": 4,
   "id": "453b4638-310a-4f85-81db-a7c76dac16c3",
   "metadata": {},
   "outputs": [],
   "source": [
    "# Crear fecha para series temporales\n",
    "df_clean['date'] = pd.to_datetime(df_clean['year'].astype(str) + '-01-01')\n",
    "\n",
    "# Interpolar datos numéricos faltantes\n",
    "df_clean.interpolate(method='linear', inplace=True)"
   ]
  },
  {
   "cell_type": "code",
   "execution_count": 5,
   "id": "a04c7d8a-5784-40cb-b530-81b5562e1a46",
   "metadata": {},
   "outputs": [],
   "source": [
    "# Generar variables adicionales\n",
    "df_clean['renewables_share'] = df_clean['renewables_electricity'] / df_clean['electricity_generation']\n",
    "df_clean['fossil_share'] = df_clean['fossil_electricity'] / df_clean['electricity_generation']\n",
    "df_clean['per_capita_electricity'] = df_clean['electricity_generation'] / df_clean['population']"
   ]
  },
  {
   "cell_type": "code",
   "execution_count": 6,
   "id": "7a7e5661-0725-4bb7-9742-f095db0b6a14",
   "metadata": {},
   "outputs": [
    {
     "name": "stdout",
     "output_type": "stream",
     "text": [
      "   year  electricity_generation  renewables_electricity  fossil_electricity  \\\n",
      "0  1900                     NaN                     NaN                 NaN   \n",
      "1  1901                     NaN                     NaN                 NaN   \n",
      "2  1902                     NaN                     NaN                 NaN   \n",
      "3  1903                     NaN                     NaN                 NaN   \n",
      "4  1904                     NaN                     NaN                 NaN   \n",
      "\n",
      "   coal_electricity  gas_electricity  nuclear_electricity  oil_electricity  \\\n",
      "0               NaN              NaN                  NaN              NaN   \n",
      "1               NaN              NaN                  NaN              NaN   \n",
      "2               NaN              NaN                  NaN              NaN   \n",
      "3               NaN              NaN                  NaN              NaN   \n",
      "4               NaN              NaN                  NaN              NaN   \n",
      "\n",
      "   hydro_electricity  solar_electricity  wind_electricity  \\\n",
      "0                NaN                NaN               NaN   \n",
      "1                NaN                NaN               NaN   \n",
      "2                NaN                NaN               NaN   \n",
      "3                NaN                NaN               NaN   \n",
      "4                NaN                NaN               NaN   \n",
      "\n",
      "   greenhouse_gas_emissions  population           gdp  electricity_demand  \\\n",
      "0                       NaN  18592411.0  4.961561e+10                 NaN   \n",
      "1                       NaN  18701066.0  5.376502e+10                 NaN   \n",
      "2                       NaN  18818864.0  5.140597e+10                 NaN   \n",
      "3                       NaN  18945905.0  5.124805e+10                 NaN   \n",
      "4                       NaN  19073803.0  5.061735e+10                 NaN   \n",
      "\n",
      "   electricity_demand_per_capita       date  renewables_share  fossil_share  \\\n",
      "0                            NaN 1900-01-01               NaN           NaN   \n",
      "1                            NaN 1901-01-01               NaN           NaN   \n",
      "2                            NaN 1902-01-01               NaN           NaN   \n",
      "3                            NaN 1903-01-01               NaN           NaN   \n",
      "4                            NaN 1904-01-01               NaN           NaN   \n",
      "\n",
      "   per_capita_electricity  \n",
      "0                     NaN  \n",
      "1                     NaN  \n",
      "2                     NaN  \n",
      "3                     NaN  \n",
      "4                     NaN  \n"
     ]
    }
   ],
   "source": [
    "os.makedirs('data/clean', exist_ok=True)\n",
    "df_clean.to_csv('../data/clean/energy_spain_clean.csv', index=False)\n",
    "\n",
    "print(df_clean.head())"
   ]
  }
 ],
 "metadata": {
  "kernelspec": {
   "display_name": "Python 3 (ipykernel)",
   "language": "python",
   "name": "python3"
  },
  "language_info": {
   "codemirror_mode": {
    "name": "ipython",
    "version": 3
   },
   "file_extension": ".py",
   "mimetype": "text/x-python",
   "name": "python",
   "nbconvert_exporter": "python",
   "pygments_lexer": "ipython3",
   "version": "3.13.5"
  }
 },
 "nbformat": 4,
 "nbformat_minor": 5
}
